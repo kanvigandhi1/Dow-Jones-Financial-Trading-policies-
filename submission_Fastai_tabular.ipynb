{
 "cells": [
  {
   "cell_type": "code",
   "execution_count": 40,
   "metadata": {
    "ExecuteTime": {
     "end_time": "2019-12-07T10:21:51.347099Z",
     "start_time": "2019-12-07T10:21:51.095610Z"
    }
   },
   "outputs": [],
   "source": [
    "%matplotlib inline\n",
    "%reload_ext autoreload\n",
    "%autoreload 2"
   ]
  },
  {
   "cell_type": "code",
   "execution_count": 41,
   "metadata": {
    "ExecuteTime": {
     "end_time": "2019-12-07T10:21:51.693747Z",
     "start_time": "2019-12-07T10:21:51.420447Z"
    }
   },
   "outputs": [],
   "source": [
    "from fastai.tabular import *\n"
   ]
  },
  {
   "cell_type": "code",
   "execution_count": 42,
   "metadata": {
    "ExecuteTime": {
     "end_time": "2019-12-07T10:21:52.151096Z",
     "start_time": "2019-12-07T10:21:51.892931Z"
    }
   },
   "outputs": [],
   "source": [
    "\n",
    "path = Path(\"\")\n",
    "df = pd.read_csv(path/'data_final.csv')"
   ]
  },
  {
   "cell_type": "code",
   "execution_count": 43,
   "metadata": {
    "ExecuteTime": {
     "end_time": "2019-12-07T10:21:52.914579Z",
     "start_time": "2019-12-07T10:21:52.667204Z"
    }
   },
   "outputs": [
    {
     "data": {
      "text/html": [
       "<div>\n",
       "<style scoped>\n",
       "    .dataframe tbody tr th:only-of-type {\n",
       "        vertical-align: middle;\n",
       "    }\n",
       "\n",
       "    .dataframe tbody tr th {\n",
       "        vertical-align: top;\n",
       "    }\n",
       "\n",
       "    .dataframe thead th {\n",
       "        text-align: right;\n",
       "    }\n",
       "</style>\n",
       "<table border=\"1\" class=\"dataframe\">\n",
       "  <thead>\n",
       "    <tr style=\"text-align: right;\">\n",
       "      <th></th>\n",
       "      <th>0</th>\n",
       "      <th>1</th>\n",
       "      <th>2</th>\n",
       "      <th>3</th>\n",
       "      <th>4</th>\n",
       "    </tr>\n",
       "  </thead>\n",
       "  <tbody>\n",
       "    <tr>\n",
       "      <th>Date</th>\n",
       "      <td>8/8/2008</td>\n",
       "      <td>8/11/2008</td>\n",
       "      <td>8/12/2008</td>\n",
       "      <td>8/13/2008</td>\n",
       "      <td>8/14/2008</td>\n",
       "    </tr>\n",
       "    <tr>\n",
       "      <th>DJI</th>\n",
       "      <td>11734.3</td>\n",
       "      <td>11782.4</td>\n",
       "      <td>11642.5</td>\n",
       "      <td>11533</td>\n",
       "      <td>11615.9</td>\n",
       "    </tr>\n",
       "    <tr>\n",
       "      <th>S&amp;P500</th>\n",
       "      <td>1296.32</td>\n",
       "      <td>1305.32</td>\n",
       "      <td>1289.59</td>\n",
       "      <td>1285.83</td>\n",
       "      <td>1292.93</td>\n",
       "    </tr>\n",
       "    <tr>\n",
       "      <th>NASDAQ</th>\n",
       "      <td>2414.1</td>\n",
       "      <td>2439.95</td>\n",
       "      <td>2430.61</td>\n",
       "      <td>2428.62</td>\n",
       "      <td>2453.67</td>\n",
       "    </tr>\n",
       "    <tr>\n",
       "      <th>Russell_3000</th>\n",
       "      <td>756.344</td>\n",
       "      <td>762.564</td>\n",
       "      <td>753.948</td>\n",
       "      <td>752.935</td>\n",
       "      <td>757.509</td>\n",
       "    </tr>\n",
       "    <tr>\n",
       "      <th>Willshire_5000</th>\n",
       "      <td>13197.1</td>\n",
       "      <td>13308</td>\n",
       "      <td>13163.6</td>\n",
       "      <td>13145.5</td>\n",
       "      <td>13228.2</td>\n",
       "    </tr>\n",
       "    <tr>\n",
       "      <th>ma7</th>\n",
       "      <td>NaN</td>\n",
       "      <td>NaN</td>\n",
       "      <td>NaN</td>\n",
       "      <td>NaN</td>\n",
       "      <td>NaN</td>\n",
       "    </tr>\n",
       "    <tr>\n",
       "      <th>ma21</th>\n",
       "      <td>NaN</td>\n",
       "      <td>NaN</td>\n",
       "      <td>NaN</td>\n",
       "      <td>NaN</td>\n",
       "      <td>NaN</td>\n",
       "    </tr>\n",
       "    <tr>\n",
       "      <th>26ema</th>\n",
       "      <td>11734.3</td>\n",
       "      <td>11759.3</td>\n",
       "      <td>11717.3</td>\n",
       "      <td>11665.8</td>\n",
       "      <td>11654.2</td>\n",
       "    </tr>\n",
       "    <tr>\n",
       "      <th>12ema</th>\n",
       "      <td>11734.3</td>\n",
       "      <td>11760.3</td>\n",
       "      <td>11714.3</td>\n",
       "      <td>11657.1</td>\n",
       "      <td>11645.9</td>\n",
       "    </tr>\n",
       "    <tr>\n",
       "      <th>MACD</th>\n",
       "      <td>0</td>\n",
       "      <td>1.0776</td>\n",
       "      <td>-2.9646</td>\n",
       "      <td>-8.68423</td>\n",
       "      <td>-8.3078</td>\n",
       "    </tr>\n",
       "    <tr>\n",
       "      <th>20sd</th>\n",
       "      <td>NaN</td>\n",
       "      <td>NaN</td>\n",
       "      <td>NaN</td>\n",
       "      <td>NaN</td>\n",
       "      <td>NaN</td>\n",
       "    </tr>\n",
       "    <tr>\n",
       "      <th>upper_band</th>\n",
       "      <td>NaN</td>\n",
       "      <td>NaN</td>\n",
       "      <td>NaN</td>\n",
       "      <td>NaN</td>\n",
       "      <td>NaN</td>\n",
       "    </tr>\n",
       "    <tr>\n",
       "      <th>lower_band</th>\n",
       "      <td>NaN</td>\n",
       "      <td>NaN</td>\n",
       "      <td>NaN</td>\n",
       "      <td>NaN</td>\n",
       "      <td>NaN</td>\n",
       "    </tr>\n",
       "    <tr>\n",
       "      <th>fourier_3</th>\n",
       "      <td>13020.4</td>\n",
       "      <td>12993.6</td>\n",
       "      <td>12966.7</td>\n",
       "      <td>12939.9</td>\n",
       "      <td>12913.2</td>\n",
       "    </tr>\n",
       "    <tr>\n",
       "      <th>fourier_6</th>\n",
       "      <td>13625.6</td>\n",
       "      <td>13571.8</td>\n",
       "      <td>13517.9</td>\n",
       "      <td>13463.8</td>\n",
       "      <td>13409.7</td>\n",
       "    </tr>\n",
       "    <tr>\n",
       "      <th>fourier_9</th>\n",
       "      <td>14208.3</td>\n",
       "      <td>14132.9</td>\n",
       "      <td>14057.1</td>\n",
       "      <td>13980.9</td>\n",
       "      <td>13904.3</td>\n",
       "    </tr>\n",
       "    <tr>\n",
       "      <th>compound_mean</th>\n",
       "      <td>-0.350337</td>\n",
       "      <td>-0.0852772</td>\n",
       "      <td>-0.318394</td>\n",
       "      <td>-0.162032</td>\n",
       "      <td>-0.194879</td>\n",
       "    </tr>\n",
       "    <tr>\n",
       "      <th>compound_max</th>\n",
       "      <td>0.2144</td>\n",
       "      <td>0.8156</td>\n",
       "      <td>0.5423</td>\n",
       "      <td>0.5106</td>\n",
       "      <td>0.7177</td>\n",
       "    </tr>\n",
       "    <tr>\n",
       "      <th>compound_min</th>\n",
       "      <td>-0.926</td>\n",
       "      <td>-0.8271</td>\n",
       "      <td>-0.8591</td>\n",
       "      <td>-0.8074</td>\n",
       "      <td>-0.8689</td>\n",
       "    </tr>\n",
       "    <tr>\n",
       "      <th>subjectivity_mean</th>\n",
       "      <td>0.163685</td>\n",
       "      <td>0.202921</td>\n",
       "      <td>0.374076</td>\n",
       "      <td>0.176371</td>\n",
       "      <td>0.319615</td>\n",
       "    </tr>\n",
       "    <tr>\n",
       "      <th>subjectivity_max</th>\n",
       "      <td>0.666667</td>\n",
       "      <td>0.72</td>\n",
       "      <td>1</td>\n",
       "      <td>0.9</td>\n",
       "      <td>1</td>\n",
       "    </tr>\n",
       "    <tr>\n",
       "      <th>subjectivity_min</th>\n",
       "      <td>0</td>\n",
       "      <td>0</td>\n",
       "      <td>0</td>\n",
       "      <td>0</td>\n",
       "      <td>0</td>\n",
       "    </tr>\n",
       "    <tr>\n",
       "      <th>ARIMA_preds</th>\n",
       "      <td>17951.6</td>\n",
       "      <td>12215.1</td>\n",
       "      <td>12287.4</td>\n",
       "      <td>11787.8</td>\n",
       "      <td>12024.6</td>\n",
       "    </tr>\n",
       "  </tbody>\n",
       "</table>\n",
       "</div>"
      ],
      "text/plain": [
       "                          0          1          2          3          4\n",
       "Date               8/8/2008  8/11/2008  8/12/2008  8/13/2008  8/14/2008\n",
       "DJI                 11734.3    11782.4    11642.5      11533    11615.9\n",
       "S&P500              1296.32    1305.32    1289.59    1285.83    1292.93\n",
       "NASDAQ               2414.1    2439.95    2430.61    2428.62    2453.67\n",
       "Russell_3000        756.344    762.564    753.948    752.935    757.509\n",
       "Willshire_5000      13197.1      13308    13163.6    13145.5    13228.2\n",
       "ma7                     NaN        NaN        NaN        NaN        NaN\n",
       "ma21                    NaN        NaN        NaN        NaN        NaN\n",
       "26ema               11734.3    11759.3    11717.3    11665.8    11654.2\n",
       "12ema               11734.3    11760.3    11714.3    11657.1    11645.9\n",
       "MACD                      0     1.0776    -2.9646   -8.68423    -8.3078\n",
       "20sd                    NaN        NaN        NaN        NaN        NaN\n",
       "upper_band              NaN        NaN        NaN        NaN        NaN\n",
       "lower_band              NaN        NaN        NaN        NaN        NaN\n",
       "fourier_3           13020.4    12993.6    12966.7    12939.9    12913.2\n",
       "fourier_6           13625.6    13571.8    13517.9    13463.8    13409.7\n",
       "fourier_9           14208.3    14132.9    14057.1    13980.9    13904.3\n",
       "compound_mean     -0.350337 -0.0852772  -0.318394  -0.162032  -0.194879\n",
       "compound_max         0.2144     0.8156     0.5423     0.5106     0.7177\n",
       "compound_min         -0.926    -0.8271    -0.8591    -0.8074    -0.8689\n",
       "subjectivity_mean  0.163685   0.202921   0.374076   0.176371   0.319615\n",
       "subjectivity_max   0.666667       0.72          1        0.9          1\n",
       "subjectivity_min          0          0          0          0          0\n",
       "ARIMA_preds         17951.6    12215.1    12287.4    11787.8    12024.6"
      ]
     },
     "execution_count": 43,
     "metadata": {},
     "output_type": "execute_result"
    }
   ],
   "source": [
    "df.head().T"
   ]
  },
  {
   "cell_type": "code",
   "execution_count": 44,
   "metadata": {
    "ExecuteTime": {
     "end_time": "2019-12-07T10:21:56.945364Z",
     "start_time": "2019-12-07T10:21:56.686588Z"
    }
   },
   "outputs": [
    {
     "data": {
      "text/plain": [
       "1989"
      ]
     },
     "execution_count": 44,
     "metadata": {},
     "output_type": "execute_result"
    }
   ],
   "source": [
    "n = len(df); n"
   ]
  },
  {
   "cell_type": "code",
   "execution_count": 45,
   "metadata": {
    "ExecuteTime": {
     "end_time": "2019-12-07T10:21:57.828251Z",
     "start_time": "2019-12-07T10:21:57.587309Z"
    }
   },
   "outputs": [],
   "source": [
    "train_df = df.iloc[:1500,:]\n",
    "valid_df = df.iloc[1500:,:]\n"
   ]
  },
  {
   "cell_type": "code",
   "execution_count": 46,
   "metadata": {
    "ExecuteTime": {
     "end_time": "2019-12-07T10:21:58.386786Z",
     "start_time": "2019-12-07T10:21:58.133437Z"
    }
   },
   "outputs": [
    {
     "name": "stderr",
     "output_type": "stream",
     "text": [
      "C:\\Users\\Taru Tak\\Anaconda3\\envs\\fastai_v1\\lib\\site-packages\\ipykernel_launcher.py:1: SettingWithCopyWarning: \n",
      "A value is trying to be set on a copy of a slice from a DataFrame.\n",
      "Try using .loc[row_indexer,col_indexer] = value instead\n",
      "\n",
      "See the caveats in the documentation: http://pandas.pydata.org/pandas-docs/stable/user_guide/indexing.html#returning-a-view-versus-a-copy\n",
      "  \"\"\"Entry point for launching an IPython kernel.\n"
     ]
    }
   ],
   "source": [
    "train_df[\"is_valid\"]=0"
   ]
  },
  {
   "cell_type": "code",
   "execution_count": 47,
   "metadata": {
    "ExecuteTime": {
     "end_time": "2019-12-07T10:21:59.386389Z",
     "start_time": "2019-12-07T10:21:59.147058Z"
    }
   },
   "outputs": [
    {
     "name": "stderr",
     "output_type": "stream",
     "text": [
      "C:\\Users\\Taru Tak\\Anaconda3\\envs\\fastai_v1\\lib\\site-packages\\ipykernel_launcher.py:1: SettingWithCopyWarning: \n",
      "A value is trying to be set on a copy of a slice from a DataFrame.\n",
      "Try using .loc[row_indexer,col_indexer] = value instead\n",
      "\n",
      "See the caveats in the documentation: http://pandas.pydata.org/pandas-docs/stable/user_guide/indexing.html#returning-a-view-versus-a-copy\n",
      "  \"\"\"Entry point for launching an IPython kernel.\n"
     ]
    }
   ],
   "source": [
    "valid_df[\"is_valid\"]=1"
   ]
  },
  {
   "cell_type": "code",
   "execution_count": 48,
   "metadata": {
    "ExecuteTime": {
     "end_time": "2019-12-07T10:21:59.663688Z",
     "start_time": "2019-12-07T10:21:59.387386Z"
    }
   },
   "outputs": [],
   "source": [
    "df_final=train_df.append(valid_df)"
   ]
  },
  {
   "cell_type": "code",
   "execution_count": 49,
   "metadata": {
    "ExecuteTime": {
     "end_time": "2019-12-07T10:21:59.947532Z",
     "start_time": "2019-12-07T10:21:59.664673Z"
    }
   },
   "outputs": [
    {
     "data": {
      "text/plain": [
       "(1500, 489)"
      ]
     },
     "execution_count": 49,
     "metadata": {},
     "output_type": "execute_result"
    }
   ],
   "source": [
    "len(train_df),len(valid_df)"
   ]
  },
  {
   "cell_type": "code",
   "execution_count": 50,
   "metadata": {
    "ExecuteTime": {
     "end_time": "2019-12-07T10:22:00.233713Z",
     "start_time": "2019-12-07T10:21:59.956510Z"
    }
   },
   "outputs": [],
   "source": [
    "procs=[FillMissing, Normalize]"
   ]
  },
  {
   "cell_type": "code",
   "execution_count": 57,
   "metadata": {
    "ExecuteTime": {
     "end_time": "2019-12-07T10:22:33.365802Z",
     "start_time": "2019-12-07T10:22:33.129732Z"
    }
   },
   "outputs": [],
   "source": [
    "cont_vars = [ 'S&P500', 'NASDAQ', 'Russell_3000', 'Willshire_5000',\n",
    "       'ma7', 'ma21', '26ema', '12ema', 'MACD', '20sd', 'upper_band',\n",
    "       'lower_band', 'fourier_3', 'fourier_6', 'fourier_9',\n",
    "       'compound_mean', 'compound_max', 'compound_min', 'subjectivity_mean',\n",
    "       'subjectivity_max', 'subjectivity_min', 'ARIMA_preds']"
   ]
  },
  {
   "cell_type": "code",
   "execution_count": 58,
   "metadata": {
    "ExecuteTime": {
     "end_time": "2019-12-07T10:22:33.714690Z",
     "start_time": "2019-12-07T10:22:33.428430Z"
    }
   },
   "outputs": [],
   "source": [
    "dep_var = 'DJI'\n"
   ]
  },
  {
   "cell_type": "code",
   "execution_count": 59,
   "metadata": {
    "ExecuteTime": {
     "end_time": "2019-12-07T10:22:34.197158Z",
     "start_time": "2019-12-07T10:22:33.900401Z"
    }
   },
   "outputs": [
    {
     "data": {
      "text/html": [
       "<div>\n",
       "<style scoped>\n",
       "    .dataframe tbody tr th:only-of-type {\n",
       "        vertical-align: middle;\n",
       "    }\n",
       "\n",
       "    .dataframe tbody tr th {\n",
       "        vertical-align: top;\n",
       "    }\n",
       "\n",
       "    .dataframe thead th {\n",
       "        text-align: right;\n",
       "    }\n",
       "</style>\n",
       "<table border=\"1\" class=\"dataframe\">\n",
       "  <thead>\n",
       "    <tr style=\"text-align: right;\">\n",
       "      <th></th>\n",
       "      <th>Date</th>\n",
       "      <th>DJI</th>\n",
       "      <th>S&amp;P500</th>\n",
       "      <th>NASDAQ</th>\n",
       "      <th>Russell_3000</th>\n",
       "      <th>Willshire_5000</th>\n",
       "      <th>ma7</th>\n",
       "      <th>ma21</th>\n",
       "      <th>26ema</th>\n",
       "      <th>12ema</th>\n",
       "      <th>...</th>\n",
       "      <th>fourier_6</th>\n",
       "      <th>fourier_9</th>\n",
       "      <th>compound_mean</th>\n",
       "      <th>compound_max</th>\n",
       "      <th>compound_min</th>\n",
       "      <th>subjectivity_mean</th>\n",
       "      <th>subjectivity_max</th>\n",
       "      <th>subjectivity_min</th>\n",
       "      <th>ARIMA_preds</th>\n",
       "      <th>is_valid</th>\n",
       "    </tr>\n",
       "  </thead>\n",
       "  <tbody>\n",
       "    <tr>\n",
       "      <th>0</th>\n",
       "      <td>8/8/2008</td>\n",
       "      <td>11734.32</td>\n",
       "      <td>1296.32</td>\n",
       "      <td>2414.100</td>\n",
       "      <td>756.344</td>\n",
       "      <td>13197.13</td>\n",
       "      <td>0.000000</td>\n",
       "      <td>0.000000</td>\n",
       "      <td>11734.320000</td>\n",
       "      <td>11734.320000</td>\n",
       "      <td>...</td>\n",
       "      <td>13625.561075</td>\n",
       "      <td>14208.265765</td>\n",
       "      <td>-0.350337</td>\n",
       "      <td>0.2144</td>\n",
       "      <td>-0.9260</td>\n",
       "      <td>0.163685</td>\n",
       "      <td>0.666667</td>\n",
       "      <td>0.0</td>\n",
       "      <td>17951.595888</td>\n",
       "      <td>0</td>\n",
       "    </tr>\n",
       "    <tr>\n",
       "      <th>1</th>\n",
       "      <td>8/11/2008</td>\n",
       "      <td>11782.35</td>\n",
       "      <td>1305.32</td>\n",
       "      <td>2439.950</td>\n",
       "      <td>762.564</td>\n",
       "      <td>13307.96</td>\n",
       "      <td>0.000000</td>\n",
       "      <td>0.000000</td>\n",
       "      <td>11759.258654</td>\n",
       "      <td>11760.336250</td>\n",
       "      <td>...</td>\n",
       "      <td>13571.794086</td>\n",
       "      <td>14132.880590</td>\n",
       "      <td>-0.085277</td>\n",
       "      <td>0.8156</td>\n",
       "      <td>-0.8271</td>\n",
       "      <td>0.202921</td>\n",
       "      <td>0.720000</td>\n",
       "      <td>0.0</td>\n",
       "      <td>12215.063732</td>\n",
       "      <td>0</td>\n",
       "    </tr>\n",
       "    <tr>\n",
       "      <th>2</th>\n",
       "      <td>8/12/2008</td>\n",
       "      <td>11642.47</td>\n",
       "      <td>1289.59</td>\n",
       "      <td>2430.610</td>\n",
       "      <td>753.948</td>\n",
       "      <td>13163.60</td>\n",
       "      <td>0.000000</td>\n",
       "      <td>0.000000</td>\n",
       "      <td>11717.297624</td>\n",
       "      <td>11714.333025</td>\n",
       "      <td>...</td>\n",
       "      <td>13517.884758</td>\n",
       "      <td>14057.079210</td>\n",
       "      <td>-0.318394</td>\n",
       "      <td>0.5423</td>\n",
       "      <td>-0.8591</td>\n",
       "      <td>0.374076</td>\n",
       "      <td>1.000000</td>\n",
       "      <td>0.0</td>\n",
       "      <td>12287.415726</td>\n",
       "      <td>0</td>\n",
       "    </tr>\n",
       "    <tr>\n",
       "      <th>3</th>\n",
       "      <td>8/13/2008</td>\n",
       "      <td>11532.96</td>\n",
       "      <td>1285.83</td>\n",
       "      <td>2428.620</td>\n",
       "      <td>752.935</td>\n",
       "      <td>13145.53</td>\n",
       "      <td>0.000000</td>\n",
       "      <td>0.000000</td>\n",
       "      <td>11665.764880</td>\n",
       "      <td>11657.080649</td>\n",
       "      <td>...</td>\n",
       "      <td>13463.839781</td>\n",
       "      <td>13980.881052</td>\n",
       "      <td>-0.162032</td>\n",
       "      <td>0.5106</td>\n",
       "      <td>-0.8074</td>\n",
       "      <td>0.176371</td>\n",
       "      <td>0.900000</td>\n",
       "      <td>0.0</td>\n",
       "      <td>11787.779555</td>\n",
       "      <td>0</td>\n",
       "    </tr>\n",
       "    <tr>\n",
       "      <th>4</th>\n",
       "      <td>8/14/2008</td>\n",
       "      <td>11615.93</td>\n",
       "      <td>1292.93</td>\n",
       "      <td>2453.670</td>\n",
       "      <td>757.509</td>\n",
       "      <td>13228.23</td>\n",
       "      <td>0.000000</td>\n",
       "      <td>0.000000</td>\n",
       "      <td>11654.207966</td>\n",
       "      <td>11645.900165</td>\n",
       "      <td>...</td>\n",
       "      <td>13409.665890</td>\n",
       "      <td>13904.305727</td>\n",
       "      <td>-0.194879</td>\n",
       "      <td>0.7177</td>\n",
       "      <td>-0.8689</td>\n",
       "      <td>0.319615</td>\n",
       "      <td>1.000000</td>\n",
       "      <td>0.0</td>\n",
       "      <td>12024.632778</td>\n",
       "      <td>0</td>\n",
       "    </tr>\n",
       "    <tr>\n",
       "      <th>...</th>\n",
       "      <td>...</td>\n",
       "      <td>...</td>\n",
       "      <td>...</td>\n",
       "      <td>...</td>\n",
       "      <td>...</td>\n",
       "      <td>...</td>\n",
       "      <td>...</td>\n",
       "      <td>...</td>\n",
       "      <td>...</td>\n",
       "      <td>...</td>\n",
       "      <td>...</td>\n",
       "      <td>...</td>\n",
       "      <td>...</td>\n",
       "      <td>...</td>\n",
       "      <td>...</td>\n",
       "      <td>...</td>\n",
       "      <td>...</td>\n",
       "      <td>...</td>\n",
       "      <td>...</td>\n",
       "      <td>...</td>\n",
       "      <td>...</td>\n",
       "    </tr>\n",
       "    <tr>\n",
       "      <th>1984</th>\n",
       "      <td>6/27/2016</td>\n",
       "      <td>17140.24</td>\n",
       "      <td>2000.54</td>\n",
       "      <td>4594.443</td>\n",
       "      <td>1177.348</td>\n",
       "      <td>20675.10</td>\n",
       "      <td>17663.235714</td>\n",
       "      <td>17773.005714</td>\n",
       "      <td>17714.658291</td>\n",
       "      <td>17657.372822</td>\n",
       "      <td>...</td>\n",
       "      <td>13892.030131</td>\n",
       "      <td>14578.282564</td>\n",
       "      <td>-0.178949</td>\n",
       "      <td>0.8442</td>\n",
       "      <td>-0.8720</td>\n",
       "      <td>0.359450</td>\n",
       "      <td>1.000000</td>\n",
       "      <td>0.0</td>\n",
       "      <td>17425.015328</td>\n",
       "      <td>1</td>\n",
       "    </tr>\n",
       "    <tr>\n",
       "      <th>1985</th>\n",
       "      <td>6/28/2016</td>\n",
       "      <td>17409.72</td>\n",
       "      <td>2036.09</td>\n",
       "      <td>4691.867</td>\n",
       "      <td>1198.448</td>\n",
       "      <td>21045.53</td>\n",
       "      <td>17625.315714</td>\n",
       "      <td>17750.934286</td>\n",
       "      <td>17692.070269</td>\n",
       "      <td>17619.272388</td>\n",
       "      <td>...</td>\n",
       "      <td>13839.073504</td>\n",
       "      <td>14505.262783</td>\n",
       "      <td>-0.027012</td>\n",
       "      <td>0.8316</td>\n",
       "      <td>-0.8818</td>\n",
       "      <td>0.324485</td>\n",
       "      <td>1.000000</td>\n",
       "      <td>0.0</td>\n",
       "      <td>17181.321307</td>\n",
       "      <td>1</td>\n",
       "    </tr>\n",
       "    <tr>\n",
       "      <th>1986</th>\n",
       "      <td>6/29/2016</td>\n",
       "      <td>17694.68</td>\n",
       "      <td>2070.77</td>\n",
       "      <td>4779.246</td>\n",
       "      <td>1219.612</td>\n",
       "      <td>21419.50</td>\n",
       "      <td>17609.574286</td>\n",
       "      <td>17746.528571</td>\n",
       "      <td>17692.263582</td>\n",
       "      <td>17630.873559</td>\n",
       "      <td>...</td>\n",
       "      <td>13785.941816</td>\n",
       "      <td>14431.732723</td>\n",
       "      <td>-0.202743</td>\n",
       "      <td>0.7783</td>\n",
       "      <td>-0.9211</td>\n",
       "      <td>0.179425</td>\n",
       "      <td>0.906250</td>\n",
       "      <td>0.0</td>\n",
       "      <td>17392.489084</td>\n",
       "      <td>1</td>\n",
       "    </tr>\n",
       "    <tr>\n",
       "      <th>1987</th>\n",
       "      <td>6/30/2016</td>\n",
       "      <td>17929.99</td>\n",
       "      <td>2098.86</td>\n",
       "      <td>4842.672</td>\n",
       "      <td>1236.623</td>\n",
       "      <td>21711.72</td>\n",
       "      <td>17623.897143</td>\n",
       "      <td>17753.210476</td>\n",
       "      <td>17709.872947</td>\n",
       "      <td>17676.891473</td>\n",
       "      <td>...</td>\n",
       "      <td>13732.641511</td>\n",
       "      <td>14357.710761</td>\n",
       "      <td>-0.235306</td>\n",
       "      <td>0.7351</td>\n",
       "      <td>-0.9578</td>\n",
       "      <td>0.186443</td>\n",
       "      <td>0.700000</td>\n",
       "      <td>0.0</td>\n",
       "      <td>17686.580316</td>\n",
       "      <td>1</td>\n",
       "    </tr>\n",
       "    <tr>\n",
       "      <th>1988</th>\n",
       "      <td>7/1/2016</td>\n",
       "      <td>17949.37</td>\n",
       "      <td>2102.95</td>\n",
       "      <td>4862.567</td>\n",
       "      <td>1239.520</td>\n",
       "      <td>21760.52</td>\n",
       "      <td>17647.974286</td>\n",
       "      <td>17758.487143</td>\n",
       "      <td>17727.613469</td>\n",
       "      <td>17718.811246</td>\n",
       "      <td>...</td>\n",
       "      <td>13679.179082</td>\n",
       "      <td>14283.215500</td>\n",
       "      <td>-0.291085</td>\n",
       "      <td>0.5719</td>\n",
       "      <td>-0.9618</td>\n",
       "      <td>0.220872</td>\n",
       "      <td>0.900000</td>\n",
       "      <td>0.0</td>\n",
       "      <td>17937.134851</td>\n",
       "      <td>1</td>\n",
       "    </tr>\n",
       "  </tbody>\n",
       "</table>\n",
       "<p>1989 rows × 25 columns</p>\n",
       "</div>"
      ],
      "text/plain": [
       "           Date       DJI   S&P500    NASDAQ  Russell_3000  Willshire_5000  \\\n",
       "0      8/8/2008  11734.32  1296.32  2414.100       756.344        13197.13   \n",
       "1     8/11/2008  11782.35  1305.32  2439.950       762.564        13307.96   \n",
       "2     8/12/2008  11642.47  1289.59  2430.610       753.948        13163.60   \n",
       "3     8/13/2008  11532.96  1285.83  2428.620       752.935        13145.53   \n",
       "4     8/14/2008  11615.93  1292.93  2453.670       757.509        13228.23   \n",
       "...         ...       ...      ...       ...           ...             ...   \n",
       "1984  6/27/2016  17140.24  2000.54  4594.443      1177.348        20675.10   \n",
       "1985  6/28/2016  17409.72  2036.09  4691.867      1198.448        21045.53   \n",
       "1986  6/29/2016  17694.68  2070.77  4779.246      1219.612        21419.50   \n",
       "1987  6/30/2016  17929.99  2098.86  4842.672      1236.623        21711.72   \n",
       "1988   7/1/2016  17949.37  2102.95  4862.567      1239.520        21760.52   \n",
       "\n",
       "               ma7          ma21         26ema         12ema  ...  \\\n",
       "0         0.000000      0.000000  11734.320000  11734.320000  ...   \n",
       "1         0.000000      0.000000  11759.258654  11760.336250  ...   \n",
       "2         0.000000      0.000000  11717.297624  11714.333025  ...   \n",
       "3         0.000000      0.000000  11665.764880  11657.080649  ...   \n",
       "4         0.000000      0.000000  11654.207966  11645.900165  ...   \n",
       "...            ...           ...           ...           ...  ...   \n",
       "1984  17663.235714  17773.005714  17714.658291  17657.372822  ...   \n",
       "1985  17625.315714  17750.934286  17692.070269  17619.272388  ...   \n",
       "1986  17609.574286  17746.528571  17692.263582  17630.873559  ...   \n",
       "1987  17623.897143  17753.210476  17709.872947  17676.891473  ...   \n",
       "1988  17647.974286  17758.487143  17727.613469  17718.811246  ...   \n",
       "\n",
       "         fourier_6     fourier_9  compound_mean  compound_max  compound_min  \\\n",
       "0     13625.561075  14208.265765      -0.350337        0.2144       -0.9260   \n",
       "1     13571.794086  14132.880590      -0.085277        0.8156       -0.8271   \n",
       "2     13517.884758  14057.079210      -0.318394        0.5423       -0.8591   \n",
       "3     13463.839781  13980.881052      -0.162032        0.5106       -0.8074   \n",
       "4     13409.665890  13904.305727      -0.194879        0.7177       -0.8689   \n",
       "...            ...           ...            ...           ...           ...   \n",
       "1984  13892.030131  14578.282564      -0.178949        0.8442       -0.8720   \n",
       "1985  13839.073504  14505.262783      -0.027012        0.8316       -0.8818   \n",
       "1986  13785.941816  14431.732723      -0.202743        0.7783       -0.9211   \n",
       "1987  13732.641511  14357.710761      -0.235306        0.7351       -0.9578   \n",
       "1988  13679.179082  14283.215500      -0.291085        0.5719       -0.9618   \n",
       "\n",
       "      subjectivity_mean  subjectivity_max  subjectivity_min   ARIMA_preds  \\\n",
       "0              0.163685          0.666667               0.0  17951.595888   \n",
       "1              0.202921          0.720000               0.0  12215.063732   \n",
       "2              0.374076          1.000000               0.0  12287.415726   \n",
       "3              0.176371          0.900000               0.0  11787.779555   \n",
       "4              0.319615          1.000000               0.0  12024.632778   \n",
       "...                 ...               ...               ...           ...   \n",
       "1984           0.359450          1.000000               0.0  17425.015328   \n",
       "1985           0.324485          1.000000               0.0  17181.321307   \n",
       "1986           0.179425          0.906250               0.0  17392.489084   \n",
       "1987           0.186443          0.700000               0.0  17686.580316   \n",
       "1988           0.220872          0.900000               0.0  17937.134851   \n",
       "\n",
       "      is_valid  \n",
       "0            0  \n",
       "1            0  \n",
       "2            0  \n",
       "3            0  \n",
       "4            0  \n",
       "...        ...  \n",
       "1984         1  \n",
       "1985         1  \n",
       "1986         1  \n",
       "1987         1  \n",
       "1988         1  \n",
       "\n",
       "[1989 rows x 25 columns]"
      ]
     },
     "execution_count": 59,
     "metadata": {},
     "output_type": "execute_result"
    }
   ],
   "source": [
    "df_final"
   ]
  },
  {
   "cell_type": "code",
   "execution_count": 60,
   "metadata": {
    "ExecuteTime": {
     "end_time": "2019-12-07T10:22:35.038190Z",
     "start_time": "2019-12-07T10:22:34.799397Z"
    }
   },
   "outputs": [],
   "source": [
    "valid_idx='is_valid'"
   ]
  },
  {
   "cell_type": "code",
   "execution_count": 61,
   "metadata": {
    "ExecuteTime": {
     "end_time": "2019-12-07T10:22:36.226875Z",
     "start_time": "2019-12-07T10:22:35.990220Z"
    }
   },
   "outputs": [],
   "source": [
    "df_final.fillna(value=0,inplace=True)"
   ]
  },
  {
   "cell_type": "code",
   "execution_count": 62,
   "metadata": {
    "ExecuteTime": {
     "end_time": "2019-12-07T10:22:37.532146Z",
     "start_time": "2019-12-07T10:22:37.258076Z"
    }
   },
   "outputs": [],
   "source": [
    "data = (TabularList.from_df(df_final, path=path,cont_names=cont_vars, procs=procs)\n",
    "                .split_from_df(col=\"is_valid\")\n",
    "                .label_from_df(cols=dep_var, label_cls=FloatList)\n",
    "                .databunch())"
   ]
  },
  {
   "cell_type": "code",
   "execution_count": 63,
   "metadata": {
    "ExecuteTime": {
     "end_time": "2019-12-07T10:22:41.787672Z",
     "start_time": "2019-12-07T10:22:41.548305Z"
    }
   },
   "outputs": [
    {
     "data": {
      "text/plain": [
       "TabularDataBunch;\n",
       "\n",
       "Train: LabelList (1500 items)\n",
       "x: TabularList\n",
       "S&P500 -0.0664; NASDAQ -0.4609; Russell_3000 -0.1246; Willshire_5000 -0.1875; ma7 -4.6474; ma21 -4.2356; 26ema -0.1630; 12ema -0.1715; MACD -0.2015; 20sd -1.6097; upper_band -4.3704; lower_band -4.0852; fourier_3 0.3057; fourier_6 0.5670; fourier_9 0.7947; compound_mean -1.2205; compound_max -2.6285; compound_min -0.6110; subjectivity_mean -1.3471; subjectivity_max -1.5904; subjectivity_min 0.0000; ARIMA_preds 2.3018; ,S&P500 -0.0365; NASDAQ -0.4271; Russell_3000 -0.0910; Willshire_5000 -0.1540; ma7 -4.6474; ma21 -4.2356; 26ema -0.1528; 12ema -0.1610; MACD -0.1931; 20sd -1.6097; upper_band -4.3704; lower_band -4.0852; fourier_3 0.2938; fourier_6 0.5449; fourier_9 0.7645; compound_mean 1.2685; compound_max 0.9604; compound_min 0.9711; subjectivity_mean -0.7579; subjectivity_max -1.2177; subjectivity_min 0.0000; ARIMA_preds 0.0138; ,S&P500 -0.0888; NASDAQ -0.4393; Russell_3000 -0.1376; Willshire_5000 -0.1976; ma7 -4.6474; ma21 -4.2356; 26ema -0.1700; 12ema -0.1795; MACD -0.2247; 20sd -1.6097; upper_band -4.3704; lower_band -4.0852; fourier_3 0.2820; fourier_6 0.5228; fourier_9 0.7342; compound_mean -0.9205; compound_max -0.6711; compound_min 0.4592; subjectivity_mean 1.8126; subjectivity_max 0.7388; subjectivity_min 0.0000; ARIMA_preds 0.0426; ,S&P500 -0.1014; NASDAQ -0.4419; Russell_3000 -0.1430; Willshire_5000 -0.2030; ma7 -4.6474; ma21 -4.2356; 26ema -0.1910; 12ema -0.2026; MACD -0.2693; 20sd -1.6097; upper_band -4.3704; lower_band -4.0852; fourier_3 0.2702; fourier_6 0.5006; fourier_9 0.7036; compound_mean 0.5478; compound_max -0.8603; compound_min 1.2863; subjectivity_mean -1.1566; subjectivity_max 0.0400; subjectivity_min 0.0000; ARIMA_preds -0.1566; ,S&P500 -0.0777; NASDAQ -0.4092; Russell_3000 -0.1183; Willshire_5000 -0.1781; ma7 -4.6474; ma21 -4.2356; 26ema -0.1957; 12ema -0.2071; MACD -0.2663; 20sd -1.6097; upper_band -4.3704; lower_band -4.0852; fourier_3 0.2583; fourier_6 0.4784; fourier_9 0.6730; compound_mean 0.2393; compound_max 0.3760; compound_min 0.3024; subjectivity_mean 0.9947; subjectivity_max 0.7388; subjectivity_min 0.0000; ARIMA_preds -0.0622; \n",
       "y: FloatList\n",
       "11734.32,11782.35,11642.47,11532.96,11615.93\n",
       "Path: .;\n",
       "\n",
       "Valid: LabelList (489 items)\n",
       "x: TabularList\n",
       "S&P500 2.2040; NASDAQ 2.2013; Russell_3000 2.1497; Willshire_5000 2.1388; ma7 1.8907; ma21 1.7693; 26ema 1.9757; 12ema 1.9651; MACD 0.2621; 20sd -0.9143; upper_band 1.7218; lower_band 1.8084; fourier_3 2.1446; fourier_6 1.9772; fourier_9 1.8345; compound_mean 0.2372; compound_max 0.4799; compound_min 0.5744; subjectivity_mean 0.2785; subjectivity_max -2.0563; subjectivity_min 0.0000; ARIMA_preds 1.9565; ,S&P500 2.2059; NASDAQ 2.1952; Russell_3000 2.1471; Willshire_5000 2.1352; ma7 1.8910; ma21 1.7716; 26ema 1.9759; 12ema 1.9620; MACD 0.1965; 20sd -0.9758; upper_band 1.7201; lower_band 1.8147; fourier_3 2.1489; fourier_6 1.9810; fourier_9 1.8346; compound_mean 1.2990; compound_max 0.0298; compound_min -0.3247; subjectivity_mean -1.3707; subjectivity_max -1.9874; subjectivity_min 0.0000; ARIMA_preds 1.9097; ,S&P500 2.1761; NASDAQ 2.1923; Russell_3000 2.1223; Willshire_5000 2.1114; ma7 1.8807; ma21 1.7726; 26ema 1.9741; 12ema 1.9550; MACD 0.0967; 20sd -0.8228; upper_band 1.7312; lower_band 1.8058; fourier_3 2.1533; fourier_6 1.9849; fourier_9 1.8348; compound_mean 1.4965; compound_max 1.3150; compound_min 1.9646; subjectivity_mean -0.0587; subjectivity_max 0.7388; subjectivity_min 0.0000; ARIMA_preds 1.9171; ,S&P500 2.1765; NASDAQ 2.2188; Russell_3000 2.1273; Willshire_5000 2.1157; ma7 1.8713; ma21 1.7735; 26ema 1.9714; 12ema 1.9471; MACD -0.0046; 20sd -0.6681; upper_band 1.7423; lower_band 1.7966; fourier_3 2.1577; fourier_6 1.9887; fourier_9 1.8349; compound_mean 0.1955; compound_max 0.0943; compound_min -0.5422; subjectivity_mean -1.2772; subjectivity_max -2.4639; subjectivity_min 0.0000; ARIMA_preds 1.8892; ,S&P500 2.0453; NASDAQ 2.0970; Russell_3000 1.9999; Willshire_5000 1.9891; ma7 1.8412; ma21 1.7669; 26ema 1.9593; 12ema 1.9207; MACD -0.2834; 20sd 0.0880; upper_band 1.7855; lower_band 1.7411; fourier_3 2.1620; fourier_6 1.9925; fourier_9 1.8351; compound_mean -1.4699; compound_max -2.0405; compound_min 1.1231; subjectivity_mean -1.8225; subjectivity_max 0.7388; subjectivity_min 0.0000; ARIMA_preds 1.8791; \n",
       "y: FloatList\n",
       "16960.57,16982.59,16912.11,16880.36,16563.3\n",
       "Path: .;\n",
       "\n",
       "Test: None"
      ]
     },
     "execution_count": 63,
     "metadata": {},
     "output_type": "execute_result"
    }
   ],
   "source": [
    "data"
   ]
  },
  {
   "cell_type": "code",
   "execution_count": 64,
   "metadata": {
    "ExecuteTime": {
     "end_time": "2019-12-07T10:22:45.270658Z",
     "start_time": "2019-12-07T10:22:45.008791Z"
    }
   },
   "outputs": [
    {
     "data": {
      "text/html": [
       "<table border=\"1\" class=\"dataframe\">\n",
       "  <thead>\n",
       "    <tr style=\"text-align: right;\">\n",
       "      <th>S&amp;P500</th>\n",
       "      <th>NASDAQ</th>\n",
       "      <th>Russell_3000</th>\n",
       "      <th>Willshire_5000</th>\n",
       "      <th>ma7</th>\n",
       "      <th>ma21</th>\n",
       "      <th>26ema</th>\n",
       "      <th>12ema</th>\n",
       "      <th>MACD</th>\n",
       "      <th>20sd</th>\n",
       "      <th>upper_band</th>\n",
       "      <th>lower_band</th>\n",
       "      <th>fourier_3</th>\n",
       "      <th>fourier_6</th>\n",
       "      <th>fourier_9</th>\n",
       "      <th>compound_mean</th>\n",
       "      <th>compound_max</th>\n",
       "      <th>compound_min</th>\n",
       "      <th>subjectivity_mean</th>\n",
       "      <th>subjectivity_max</th>\n",
       "      <th>subjectivity_min</th>\n",
       "      <th>ARIMA_preds</th>\n",
       "      <th>target</th>\n",
       "    </tr>\n",
       "  </thead>\n",
       "  <tbody>\n",
       "    <tr>\n",
       "      <td>-0.2034</td>\n",
       "      <td>-0.1565</td>\n",
       "      <td>-0.2007</td>\n",
       "      <td>-0.1907</td>\n",
       "      <td>-0.0102</td>\n",
       "      <td>-0.0462</td>\n",
       "      <td>-0.1073</td>\n",
       "      <td>-0.0744</td>\n",
       "      <td>0.6111</td>\n",
       "      <td>1.8615</td>\n",
       "      <td>0.0769</td>\n",
       "      <td>-0.1669</td>\n",
       "      <td>0.0122</td>\n",
       "      <td>-0.0470</td>\n",
       "      <td>-0.1001</td>\n",
       "      <td>-0.0126</td>\n",
       "      <td>-1.2794</td>\n",
       "      <td>-1.3725</td>\n",
       "      <td>0.3349</td>\n",
       "      <td>0.7388</td>\n",
       "      <td>0.0000</td>\n",
       "      <td>-0.0697</td>\n",
       "      <td>12184.26</td>\n",
       "    </tr>\n",
       "    <tr>\n",
       "      <td>0.1210</td>\n",
       "      <td>0.2213</td>\n",
       "      <td>0.1202</td>\n",
       "      <td>0.1299</td>\n",
       "      <td>0.3079</td>\n",
       "      <td>0.3265</td>\n",
       "      <td>0.2910</td>\n",
       "      <td>0.3012</td>\n",
       "      <td>0.2668</td>\n",
       "      <td>-0.7974</td>\n",
       "      <td>0.2768</td>\n",
       "      <td>0.3740</td>\n",
       "      <td>0.0838</td>\n",
       "      <td>0.0491</td>\n",
       "      <td>0.2325</td>\n",
       "      <td>0.2170</td>\n",
       "      <td>1.6446</td>\n",
       "      <td>-1.1741</td>\n",
       "      <td>1.7649</td>\n",
       "      <td>0.7388</td>\n",
       "      <td>0.0000</td>\n",
       "      <td>0.2364</td>\n",
       "      <td>12837.33</td>\n",
       "    </tr>\n",
       "    <tr>\n",
       "      <td>1.1279</td>\n",
       "      <td>1.1670</td>\n",
       "      <td>1.1399</td>\n",
       "      <td>1.1377</td>\n",
       "      <td>1.0462</td>\n",
       "      <td>1.0905</td>\n",
       "      <td>1.2014</td>\n",
       "      <td>1.1227</td>\n",
       "      <td>-1.2387</td>\n",
       "      <td>-0.8007</td>\n",
       "      <td>1.0458</td>\n",
       "      <td>1.1298</td>\n",
       "      <td>1.2158</td>\n",
       "      <td>1.3076</td>\n",
       "      <td>1.2631</td>\n",
       "      <td>0.2810</td>\n",
       "      <td>-0.5809</td>\n",
       "      <td>-1.0558</td>\n",
       "      <td>-0.0083</td>\n",
       "      <td>0.7388</td>\n",
       "      <td>0.0000</td>\n",
       "      <td>1.0938</td>\n",
       "      <td>14937.48</td>\n",
       "    </tr>\n",
       "    <tr>\n",
       "      <td>-1.6968</td>\n",
       "      <td>-1.8051</td>\n",
       "      <td>-1.7301</td>\n",
       "      <td>-1.7512</td>\n",
       "      <td>-1.4157</td>\n",
       "      <td>-1.1413</td>\n",
       "      <td>-1.3221</td>\n",
       "      <td>-1.4461</td>\n",
       "      <td>-2.7103</td>\n",
       "      <td>2.0752</td>\n",
       "      <td>-1.0117</td>\n",
       "      <td>-1.2637</td>\n",
       "      <td>-0.5048</td>\n",
       "      <td>-0.9968</td>\n",
       "      <td>-1.3211</td>\n",
       "      <td>2.0564</td>\n",
       "      <td>0.6984</td>\n",
       "      <td>1.2863</td>\n",
       "      <td>-0.8884</td>\n",
       "      <td>0.7388</td>\n",
       "      <td>0.0000</td>\n",
       "      <td>-1.5092</td>\n",
       "      <td>7997.28</td>\n",
       "    </tr>\n",
       "    <tr>\n",
       "      <td>-1.4533</td>\n",
       "      <td>-1.6032</td>\n",
       "      <td>-1.4884</td>\n",
       "      <td>-1.5141</td>\n",
       "      <td>-1.3287</td>\n",
       "      <td>-1.2433</td>\n",
       "      <td>-1.4212</td>\n",
       "      <td>-1.4351</td>\n",
       "      <td>-0.6041</td>\n",
       "      <td>0.7732</td>\n",
       "      <td>-1.2003</td>\n",
       "      <td>-1.2803</td>\n",
       "      <td>-0.6651</td>\n",
       "      <td>-1.2791</td>\n",
       "      <td>-1.6287</td>\n",
       "      <td>-2.1939</td>\n",
       "      <td>-1.2794</td>\n",
       "      <td>-0.7534</td>\n",
       "      <td>-0.6153</td>\n",
       "      <td>0.7388</td>\n",
       "      <td>0.0000</td>\n",
       "      <td>-1.4493</td>\n",
       "      <td>8629.68</td>\n",
       "    </tr>\n",
       "  </tbody>\n",
       "</table>"
      ],
      "text/plain": [
       "<IPython.core.display.HTML object>"
      ]
     },
     "metadata": {},
     "output_type": "display_data"
    }
   ],
   "source": [
    "data.show_batch()"
   ]
  },
  {
   "cell_type": "code",
   "execution_count": 65,
   "metadata": {
    "ExecuteTime": {
     "end_time": "2019-12-07T10:22:56.305524Z",
     "start_time": "2019-12-07T10:22:56.069104Z"
    }
   },
   "outputs": [],
   "source": [
    "max_log_y = np.log(np.max(train_df['DJI'])*1.2)\n",
    "y_range = torch.tensor([0, max_log_y], device=defaults.device)"
   ]
  },
  {
   "cell_type": "code",
   "execution_count": 80,
   "metadata": {
    "ExecuteTime": {
     "end_time": "2019-12-07T10:32:52.573259Z",
     "start_time": "2019-12-07T10:32:52.332278Z"
    }
   },
   "outputs": [],
   "source": [
    "\n",
    "learn = tabular_learner(data, layers=[100,50], ps=[0.001,0.01], emb_drop=0.04, \n",
    "                        y_range=y_range, metrics=rmse).to_fp32()"
   ]
  },
  {
   "cell_type": "code",
   "execution_count": 81,
   "metadata": {
    "ExecuteTime": {
     "end_time": "2019-12-07T10:32:52.868063Z",
     "start_time": "2019-12-07T10:32:52.624711Z"
    }
   },
   "outputs": [
    {
     "data": {
      "text/plain": [
       "TabularDataBunch;\n",
       "\n",
       "Train: LabelList (1500 items)\n",
       "x: TabularList\n",
       "S&P500 -0.0664; NASDAQ -0.4609; Russell_3000 -0.1246; Willshire_5000 -0.1875; ma7 -4.6474; ma21 -4.2356; 26ema -0.1630; 12ema -0.1715; MACD -0.2015; 20sd -1.6097; upper_band -4.3704; lower_band -4.0852; fourier_3 0.3057; fourier_6 0.5670; fourier_9 0.7947; compound_mean -1.2205; compound_max -2.6285; compound_min -0.6110; subjectivity_mean -1.3471; subjectivity_max -1.5904; subjectivity_min 0.0000; ARIMA_preds 2.3018; ,S&P500 -0.0365; NASDAQ -0.4271; Russell_3000 -0.0910; Willshire_5000 -0.1540; ma7 -4.6474; ma21 -4.2356; 26ema -0.1528; 12ema -0.1610; MACD -0.1931; 20sd -1.6097; upper_band -4.3704; lower_band -4.0852; fourier_3 0.2938; fourier_6 0.5449; fourier_9 0.7645; compound_mean 1.2685; compound_max 0.9604; compound_min 0.9711; subjectivity_mean -0.7579; subjectivity_max -1.2177; subjectivity_min 0.0000; ARIMA_preds 0.0138; ,S&P500 -0.0888; NASDAQ -0.4393; Russell_3000 -0.1376; Willshire_5000 -0.1976; ma7 -4.6474; ma21 -4.2356; 26ema -0.1700; 12ema -0.1795; MACD -0.2247; 20sd -1.6097; upper_band -4.3704; lower_band -4.0852; fourier_3 0.2820; fourier_6 0.5228; fourier_9 0.7342; compound_mean -0.9205; compound_max -0.6711; compound_min 0.4592; subjectivity_mean 1.8126; subjectivity_max 0.7388; subjectivity_min 0.0000; ARIMA_preds 0.0426; ,S&P500 -0.1014; NASDAQ -0.4419; Russell_3000 -0.1430; Willshire_5000 -0.2030; ma7 -4.6474; ma21 -4.2356; 26ema -0.1910; 12ema -0.2026; MACD -0.2693; 20sd -1.6097; upper_band -4.3704; lower_band -4.0852; fourier_3 0.2702; fourier_6 0.5006; fourier_9 0.7036; compound_mean 0.5478; compound_max -0.8603; compound_min 1.2863; subjectivity_mean -1.1566; subjectivity_max 0.0400; subjectivity_min 0.0000; ARIMA_preds -0.1566; ,S&P500 -0.0777; NASDAQ -0.4092; Russell_3000 -0.1183; Willshire_5000 -0.1781; ma7 -4.6474; ma21 -4.2356; 26ema -0.1957; 12ema -0.2071; MACD -0.2663; 20sd -1.6097; upper_band -4.3704; lower_band -4.0852; fourier_3 0.2583; fourier_6 0.4784; fourier_9 0.6730; compound_mean 0.2393; compound_max 0.3760; compound_min 0.3024; subjectivity_mean 0.9947; subjectivity_max 0.7388; subjectivity_min 0.0000; ARIMA_preds -0.0622; \n",
       "y: FloatList\n",
       "11734.32,11782.35,11642.47,11532.96,11615.93\n",
       "Path: .;\n",
       "\n",
       "Valid: LabelList (489 items)\n",
       "x: TabularList\n",
       "S&P500 2.2040; NASDAQ 2.2013; Russell_3000 2.1497; Willshire_5000 2.1388; ma7 1.8907; ma21 1.7693; 26ema 1.9757; 12ema 1.9651; MACD 0.2621; 20sd -0.9143; upper_band 1.7218; lower_band 1.8084; fourier_3 2.1446; fourier_6 1.9772; fourier_9 1.8345; compound_mean 0.2372; compound_max 0.4799; compound_min 0.5744; subjectivity_mean 0.2785; subjectivity_max -2.0563; subjectivity_min 0.0000; ARIMA_preds 1.9565; ,S&P500 2.2059; NASDAQ 2.1952; Russell_3000 2.1471; Willshire_5000 2.1352; ma7 1.8910; ma21 1.7716; 26ema 1.9759; 12ema 1.9620; MACD 0.1965; 20sd -0.9758; upper_band 1.7201; lower_band 1.8147; fourier_3 2.1489; fourier_6 1.9810; fourier_9 1.8346; compound_mean 1.2990; compound_max 0.0298; compound_min -0.3247; subjectivity_mean -1.3707; subjectivity_max -1.9874; subjectivity_min 0.0000; ARIMA_preds 1.9097; ,S&P500 2.1761; NASDAQ 2.1923; Russell_3000 2.1223; Willshire_5000 2.1114; ma7 1.8807; ma21 1.7726; 26ema 1.9741; 12ema 1.9550; MACD 0.0967; 20sd -0.8228; upper_band 1.7312; lower_band 1.8058; fourier_3 2.1533; fourier_6 1.9849; fourier_9 1.8348; compound_mean 1.4965; compound_max 1.3150; compound_min 1.9646; subjectivity_mean -0.0587; subjectivity_max 0.7388; subjectivity_min 0.0000; ARIMA_preds 1.9171; ,S&P500 2.1765; NASDAQ 2.2188; Russell_3000 2.1273; Willshire_5000 2.1157; ma7 1.8713; ma21 1.7735; 26ema 1.9714; 12ema 1.9471; MACD -0.0046; 20sd -0.6681; upper_band 1.7423; lower_band 1.7966; fourier_3 2.1577; fourier_6 1.9887; fourier_9 1.8349; compound_mean 0.1955; compound_max 0.0943; compound_min -0.5422; subjectivity_mean -1.2772; subjectivity_max -2.4639; subjectivity_min 0.0000; ARIMA_preds 1.8892; ,S&P500 2.0453; NASDAQ 2.0970; Russell_3000 1.9999; Willshire_5000 1.9891; ma7 1.8412; ma21 1.7669; 26ema 1.9593; 12ema 1.9207; MACD -0.2834; 20sd 0.0880; upper_band 1.7855; lower_band 1.7411; fourier_3 2.1620; fourier_6 1.9925; fourier_9 1.8351; compound_mean -1.4699; compound_max -2.0405; compound_min 1.1231; subjectivity_mean -1.8225; subjectivity_max 0.7388; subjectivity_min 0.0000; ARIMA_preds 1.8791; \n",
       "y: FloatList\n",
       "16960.57,16982.59,16912.11,16880.36,16563.3\n",
       "Path: .;\n",
       "\n",
       "Test: None"
      ]
     },
     "execution_count": 81,
     "metadata": {},
     "output_type": "execute_result"
    }
   ],
   "source": [
    "learn.data"
   ]
  },
  {
   "cell_type": "code",
   "execution_count": 82,
   "metadata": {
    "ExecuteTime": {
     "end_time": "2019-12-07T10:34:06.365148Z",
     "start_time": "2019-12-07T10:32:57.223023Z"
    }
   },
   "outputs": [
    {
     "data": {
      "text/html": [],
      "text/plain": [
       "<IPython.core.display.HTML object>"
      ]
     },
     "metadata": {},
     "output_type": "display_data"
    },
    {
     "name": "stdout",
     "output_type": "stream",
     "text": [
      "LR Finder is complete, type {learner_name}.recorder.plot() to see the graph.\n"
     ]
    }
   ],
   "source": [
    "learn.lr_find()"
   ]
  },
  {
   "cell_type": "code",
   "execution_count": 83,
   "metadata": {
    "ExecuteTime": {
     "end_time": "2019-12-07T10:34:06.987506Z",
     "start_time": "2019-12-07T10:34:06.366146Z"
    }
   },
   "outputs": [
    {
     "data": {
      "image/png": "[encoded data removed]",
      "text/plain": [
       "<Figure size 432x288 with 1 Axes>"
      ]
     },
     "metadata": {
      "needs_background": "light"
     },
     "output_type": "display_data"
    }
   ],
   "source": [
    "learn.recorder.plot()"
   ]
  },
  {
   "cell_type": "code",
   "execution_count": 86,
   "metadata": {
    "ExecuteTime": {
     "end_time": "2019-12-07T18:34:33.376660Z",
     "start_time": "2019-12-07T10:38:45.473779Z"
    }
   },
   "outputs": [
    {
     "data": {
      "text/html": [
       "<table border=\"1\" class=\"dataframe\">\n",
       "  <thead>\n",
       "    <tr style=\"text-align: left;\">\n",
       "      <th>epoch</th>\n",
       "      <th>train_loss</th>\n",
       "      <th>valid_loss</th>\n",
       "      <th>root_mean_squared_error</th>\n",
       "      <th>time</th>\n",
       "    </tr>\n",
       "  </thead>\n",
       "  <tbody>\n",
       "    <tr>\n",
       "      <td>0</td>\n",
       "      <td>154719072.000000</td>\n",
       "      <td>302811680.000000</td>\n",
       "      <td>17394.394531</td>\n",
       "      <td>00:45</td>\n",
       "    </tr>\n",
       "    <tr>\n",
       "      <td>1</td>\n",
       "      <td>154539728.000000</td>\n",
       "      <td>302812096.000000</td>\n",
       "      <td>17394.406250</td>\n",
       "      <td>00:53</td>\n",
       "    </tr>\n",
       "    <tr>\n",
       "      <td>2</td>\n",
       "      <td>154441696.000000</td>\n",
       "      <td>302811904.000000</td>\n",
       "      <td>17394.398438</td>\n",
       "      <td>00:46</td>\n",
       "    </tr>\n",
       "    <tr>\n",
       "      <td>3</td>\n",
       "      <td>154556768.000000</td>\n",
       "      <td>302811776.000000</td>\n",
       "      <td>17394.394531</td>\n",
       "      <td>00:46</td>\n",
       "    </tr>\n",
       "    <tr>\n",
       "      <td>4</td>\n",
       "      <td>154713648.000000</td>\n",
       "      <td>302811712.000000</td>\n",
       "      <td>17394.392578</td>\n",
       "      <td>7:52:36</td>\n",
       "    </tr>\n",
       "  </tbody>\n",
       "</table>"
      ],
      "text/plain": [
       "<IPython.core.display.HTML object>"
      ]
     },
     "metadata": {},
     "output_type": "display_data"
    }
   ],
   "source": [
    "learn.fit_one_cycle(5, 1e-01, wd=0.3)\n"
   ]
  }
 ],
 "metadata": {
  "kernelspec": {
   "display_name": "Python 3",
   "language": "python",
   "name": "python3"
  },
  "language_info": {
   "codemirror_mode": {
    "name": "ipython",
    "version": 3
   },
   "file_extension": ".py",
   "mimetype": "text/x-python",
   "name": "python",
   "nbconvert_exporter": "python",
   "pygments_lexer": "ipython3",
   "version": "3.7.5"
  },
  "toc": {
   "base_numbering": 1,
   "nav_menu": {},
   "number_sections": true,
   "sideBar": true,
   "skip_h1_title": false,
   "title_cell": "Table of Contents",
   "title_sidebar": "Contents",
   "toc_cell": false,
   "toc_position": {},
   "toc_section_display": true,
   "toc_window_display": false
  }
 },
 "nbformat": 4,
 "nbformat_minor": 2
}
