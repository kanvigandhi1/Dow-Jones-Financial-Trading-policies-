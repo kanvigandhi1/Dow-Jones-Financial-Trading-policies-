{
 "cells": [
  {
   "cell_type": "code",
   "execution_count": 1,
   "metadata": {
    "ExecuteTime": {
     "end_time": "2019-12-08T23:58:25.936190Z",
     "start_time": "2019-12-08T23:58:24.522318Z"
    }
   },
   "outputs": [],
   "source": [
    "import numpy as np\n",
    "import pandas as pd\n",
    "import matplotlib.pyplot as plt\n",
    "\n",
    "import statsmodels.api as sm\n",
    "from statsmodels.formula.api import ols\n",
    "\n",
    "from sklearn import metrics\n",
    "from sklearn.metrics import mean_squared_error\n",
    "from sklearn.metrics import accuracy_score\n",
    "from sklearn.metrics import r2_score\n",
    "\n",
    "\n",
    "import warnings\n",
    "warnings.filterwarnings(\"ignore\")\n",
    "\n"
   ]
  },
  {
   "cell_type": "code",
   "execution_count": 2,
   "metadata": {
    "ExecuteTime": {
     "end_time": "2019-12-08T23:58:26.041467Z",
     "start_time": "2019-12-08T23:58:25.936697Z"
    }
   },
   "outputs": [],
   "source": [
    "df = pd.read_csv(\"data_final.csv\", index_col='Date', parse_dates=True)\n",
    "series = df.copy()"
   ]
  },
  {
   "cell_type": "code",
   "execution_count": 3,
   "metadata": {
    "ExecuteTime": {
     "end_time": "2019-12-08T23:58:26.048428Z",
     "start_time": "2019-12-08T23:58:26.042418Z"
    }
   },
   "outputs": [
    {
     "data": {
      "text/plain": [
       "DJI                   0\n",
       "SnP500                0\n",
       "NASDAQ                0\n",
       "Russell_3000          0\n",
       "Willshire_5000        0\n",
       "ma7                   6\n",
       "ma21                 20\n",
       "26ema                 0\n",
       "12ema                 0\n",
       "MACD                  0\n",
       "20sd                 10\n",
       "upper_band           20\n",
       "lower_band           20\n",
       "fourier_3             0\n",
       "fourier_6             0\n",
       "fourier_9             0\n",
       "compound_mean         0\n",
       "compound_max          0\n",
       "compound_min          0\n",
       "subjectivity_mean     0\n",
       "subjectivity_max      0\n",
       "ARIMA_preds           0\n",
       "dtype: int64"
      ]
     },
     "execution_count": 3,
     "metadata": {},
     "output_type": "execute_result"
    }
   ],
   "source": [
    "series.isna().sum()"
   ]
  },
  {
   "cell_type": "code",
   "execution_count": 4,
   "metadata": {
    "ExecuteTime": {
     "end_time": "2019-12-08T23:58:26.054386Z",
     "start_time": "2019-12-08T23:58:26.049400Z"
    }
   },
   "outputs": [],
   "source": [
    "series.fillna(value=0,inplace=True)"
   ]
  },
  {
   "cell_type": "code",
   "execution_count": 5,
   "metadata": {
    "ExecuteTime": {
     "end_time": "2019-12-08T23:58:26.060370Z",
     "start_time": "2019-12-08T23:58:26.055383Z"
    }
   },
   "outputs": [],
   "source": [
    "data=series.iloc[:,1:]\n",
    "target=series.DJI\n",
    "\n",
    "split=.20\n",
    "train_len=int(len(data)*(1-split))"
   ]
  },
  {
   "cell_type": "code",
   "execution_count": 6,
   "metadata": {
    "ExecuteTime": {
     "end_time": "2019-12-08T23:58:26.065394Z",
     "start_time": "2019-12-08T23:58:26.061368Z"
    }
   },
   "outputs": [
    {
     "data": {
      "text/plain": [
       "1591"
      ]
     },
     "execution_count": 6,
     "metadata": {},
     "output_type": "execute_result"
    }
   ],
   "source": [
    "train_len"
   ]
  },
  {
   "cell_type": "code",
   "execution_count": 7,
   "metadata": {
    "ExecuteTime": {
     "end_time": "2019-12-08T23:58:26.352385Z",
     "start_time": "2019-12-08T23:58:26.233697Z"
    }
   },
   "outputs": [
    {
     "ename": "NameError",
     "evalue": "name 'x_train' is not defined",
     "output_type": "error",
     "traceback": [
      "\u001b[1;31m---------------------------------------------------------------------------\u001b[0m",
      "\u001b[1;31mNameError\u001b[0m                                 Traceback (most recent call last)",
      "\u001b[1;32m<ipython-input-7-e29555baf71d>\u001b[0m in \u001b[0;36m<module>\u001b[1;34m\u001b[0m\n\u001b[1;32m----> 1\u001b[1;33m \u001b[0mx_train\u001b[0m\u001b[1;33m.\u001b[0m\u001b[0mcorr\u001b[0m\u001b[1;33m(\u001b[0m\u001b[1;33m)\u001b[0m\u001b[1;33m\u001b[0m\u001b[1;33m\u001b[0m\u001b[0m\n\u001b[0m",
      "\u001b[1;31mNameError\u001b[0m: name 'x_train' is not defined"
     ]
    }
   ],
   "source": [
    "x_train.corr()"
   ]
  },
  {
   "cell_type": "code",
   "execution_count": 8,
   "metadata": {
    "ExecuteTime": {
     "end_time": "2019-12-08T23:58:26.527655Z",
     "start_time": "2019-12-08T23:58:26.523465Z"
    }
   },
   "outputs": [],
   "source": [
    "\n",
    "#Train-Test Split \n",
    "x_train, x_test, y_train, y_test = data.iloc[:train_len,:],data.iloc[train_len:,:],target.iloc[:train_len],target.iloc[train_len:]"
   ]
  },
  {
   "cell_type": "code",
   "execution_count": 9,
   "metadata": {
    "ExecuteTime": {
     "end_time": "2019-12-08T23:58:26.943112Z",
     "start_time": "2019-12-08T23:58:26.920579Z"
    }
   },
   "outputs": [
    {
     "data": {
      "text/html": [
       "<div>\n",
       "<style scoped>\n",
       "    .dataframe tbody tr th:only-of-type {\n",
       "        vertical-align: middle;\n",
       "    }\n",
       "\n",
       "    .dataframe tbody tr th {\n",
       "        vertical-align: top;\n",
       "    }\n",
       "\n",
       "    .dataframe thead th {\n",
       "        text-align: right;\n",
       "    }\n",
       "</style>\n",
       "<table border=\"1\" class=\"dataframe\">\n",
       "  <thead>\n",
       "    <tr style=\"text-align: right;\">\n",
       "      <th></th>\n",
       "      <th>SnP500</th>\n",
       "      <th>NASDAQ</th>\n",
       "      <th>Russell_3000</th>\n",
       "      <th>Willshire_5000</th>\n",
       "      <th>ma7</th>\n",
       "      <th>ma21</th>\n",
       "      <th>26ema</th>\n",
       "      <th>12ema</th>\n",
       "      <th>MACD</th>\n",
       "      <th>20sd</th>\n",
       "      <th>...</th>\n",
       "      <th>lower_band</th>\n",
       "      <th>fourier_3</th>\n",
       "      <th>fourier_6</th>\n",
       "      <th>fourier_9</th>\n",
       "      <th>compound_mean</th>\n",
       "      <th>compound_max</th>\n",
       "      <th>compound_min</th>\n",
       "      <th>subjectivity_mean</th>\n",
       "      <th>subjectivity_max</th>\n",
       "      <th>ARIMA_preds</th>\n",
       "    </tr>\n",
       "    <tr>\n",
       "      <th>Date</th>\n",
       "      <th></th>\n",
       "      <th></th>\n",
       "      <th></th>\n",
       "      <th></th>\n",
       "      <th></th>\n",
       "      <th></th>\n",
       "      <th></th>\n",
       "      <th></th>\n",
       "      <th></th>\n",
       "      <th></th>\n",
       "      <th></th>\n",
       "      <th></th>\n",
       "      <th></th>\n",
       "      <th></th>\n",
       "      <th></th>\n",
       "      <th></th>\n",
       "      <th></th>\n",
       "      <th></th>\n",
       "      <th></th>\n",
       "      <th></th>\n",
       "      <th></th>\n",
       "    </tr>\n",
       "  </thead>\n",
       "  <tbody>\n",
       "    <tr>\n",
       "      <th>2008-08-08</th>\n",
       "      <td>1296.32</td>\n",
       "      <td>2414.100</td>\n",
       "      <td>756.344</td>\n",
       "      <td>13197.13</td>\n",
       "      <td>0.00000</td>\n",
       "      <td>0.00000</td>\n",
       "      <td>11734.32000</td>\n",
       "      <td>11734.32000</td>\n",
       "      <td>0.000000</td>\n",
       "      <td>0.000000</td>\n",
       "      <td>...</td>\n",
       "      <td>0.00000</td>\n",
       "      <td>13020.39374</td>\n",
       "      <td>13625.56107</td>\n",
       "      <td>14208.26577</td>\n",
       "      <td>-0.350337</td>\n",
       "      <td>0.2144</td>\n",
       "      <td>-0.9260</td>\n",
       "      <td>0.163685</td>\n",
       "      <td>0.666667</td>\n",
       "      <td>17951.59589</td>\n",
       "    </tr>\n",
       "    <tr>\n",
       "      <th>2008-08-11</th>\n",
       "      <td>1305.32</td>\n",
       "      <td>2439.950</td>\n",
       "      <td>762.564</td>\n",
       "      <td>13307.96</td>\n",
       "      <td>0.00000</td>\n",
       "      <td>0.00000</td>\n",
       "      <td>11759.25865</td>\n",
       "      <td>11760.33625</td>\n",
       "      <td>1.077596</td>\n",
       "      <td>0.000000</td>\n",
       "      <td>...</td>\n",
       "      <td>0.00000</td>\n",
       "      <td>12993.55868</td>\n",
       "      <td>13571.79409</td>\n",
       "      <td>14132.88059</td>\n",
       "      <td>-0.085277</td>\n",
       "      <td>0.8156</td>\n",
       "      <td>-0.8271</td>\n",
       "      <td>0.202921</td>\n",
       "      <td>0.720000</td>\n",
       "      <td>12215.06373</td>\n",
       "    </tr>\n",
       "    <tr>\n",
       "      <th>2008-08-12</th>\n",
       "      <td>1289.59</td>\n",
       "      <td>2430.610</td>\n",
       "      <td>753.948</td>\n",
       "      <td>13163.60</td>\n",
       "      <td>0.00000</td>\n",
       "      <td>0.00000</td>\n",
       "      <td>11717.29762</td>\n",
       "      <td>11714.33303</td>\n",
       "      <td>-2.964599</td>\n",
       "      <td>0.000000</td>\n",
       "      <td>...</td>\n",
       "      <td>0.00000</td>\n",
       "      <td>12966.73966</td>\n",
       "      <td>13517.88476</td>\n",
       "      <td>14057.07921</td>\n",
       "      <td>-0.318394</td>\n",
       "      <td>0.5423</td>\n",
       "      <td>-0.8591</td>\n",
       "      <td>0.374076</td>\n",
       "      <td>1.000000</td>\n",
       "      <td>12287.41573</td>\n",
       "    </tr>\n",
       "    <tr>\n",
       "      <th>2008-08-13</th>\n",
       "      <td>1285.83</td>\n",
       "      <td>2428.620</td>\n",
       "      <td>752.935</td>\n",
       "      <td>13145.53</td>\n",
       "      <td>0.00000</td>\n",
       "      <td>0.00000</td>\n",
       "      <td>11665.76488</td>\n",
       "      <td>11657.08065</td>\n",
       "      <td>-8.684231</td>\n",
       "      <td>0.000000</td>\n",
       "      <td>...</td>\n",
       "      <td>0.00000</td>\n",
       "      <td>12939.93763</td>\n",
       "      <td>13463.83978</td>\n",
       "      <td>13980.88105</td>\n",
       "      <td>-0.162032</td>\n",
       "      <td>0.5106</td>\n",
       "      <td>-0.8074</td>\n",
       "      <td>0.176371</td>\n",
       "      <td>0.900000</td>\n",
       "      <td>11787.77956</td>\n",
       "    </tr>\n",
       "    <tr>\n",
       "      <th>2008-08-14</th>\n",
       "      <td>1292.93</td>\n",
       "      <td>2453.670</td>\n",
       "      <td>757.509</td>\n",
       "      <td>13228.23</td>\n",
       "      <td>0.00000</td>\n",
       "      <td>0.00000</td>\n",
       "      <td>11654.20797</td>\n",
       "      <td>11645.90017</td>\n",
       "      <td>-8.307801</td>\n",
       "      <td>0.000000</td>\n",
       "      <td>...</td>\n",
       "      <td>0.00000</td>\n",
       "      <td>12913.15355</td>\n",
       "      <td>13409.66589</td>\n",
       "      <td>13904.30573</td>\n",
       "      <td>-0.194879</td>\n",
       "      <td>0.7177</td>\n",
       "      <td>-0.8689</td>\n",
       "      <td>0.319615</td>\n",
       "      <td>1.000000</td>\n",
       "      <td>12024.63278</td>\n",
       "    </tr>\n",
       "    <tr>\n",
       "      <th>...</th>\n",
       "      <td>...</td>\n",
       "      <td>...</td>\n",
       "      <td>...</td>\n",
       "      <td>...</td>\n",
       "      <td>...</td>\n",
       "      <td>...</td>\n",
       "      <td>...</td>\n",
       "      <td>...</td>\n",
       "      <td>...</td>\n",
       "      <td>...</td>\n",
       "      <td>...</td>\n",
       "      <td>...</td>\n",
       "      <td>...</td>\n",
       "      <td>...</td>\n",
       "      <td>...</td>\n",
       "      <td>...</td>\n",
       "      <td>...</td>\n",
       "      <td>...</td>\n",
       "      <td>...</td>\n",
       "      <td>...</td>\n",
       "      <td>...</td>\n",
       "    </tr>\n",
       "    <tr>\n",
       "      <th>2014-11-25</th>\n",
       "      <td>2067.03</td>\n",
       "      <td>4758.251</td>\n",
       "      <td>1227.410</td>\n",
       "      <td>21761.12</td>\n",
       "      <td>17740.45714</td>\n",
       "      <td>17535.26571</td>\n",
       "      <td>17440.69045</td>\n",
       "      <td>17665.94412</td>\n",
       "      <td>225.253663</td>\n",
       "      <td>80.066184</td>\n",
       "      <td>...</td>\n",
       "      <td>17375.13335</td>\n",
       "      <td>17937.02997</td>\n",
       "      <td>17570.07586</td>\n",
       "      <td>17312.60723</td>\n",
       "      <td>-0.252173</td>\n",
       "      <td>0.8860</td>\n",
       "      <td>-0.9169</td>\n",
       "      <td>0.314211</td>\n",
       "      <td>1.000000</td>\n",
       "      <td>17815.52378</td>\n",
       "    </tr>\n",
       "    <tr>\n",
       "      <th>2014-11-26</th>\n",
       "      <td>2072.83</td>\n",
       "      <td>4787.317</td>\n",
       "      <td>1230.727</td>\n",
       "      <td>21826.24</td>\n",
       "      <td>17766.17143</td>\n",
       "      <td>17574.40857</td>\n",
       "      <td>17469.36153</td>\n",
       "      <td>17690.83733</td>\n",
       "      <td>221.475798</td>\n",
       "      <td>83.156072</td>\n",
       "      <td>...</td>\n",
       "      <td>17408.09643</td>\n",
       "      <td>17944.00959</td>\n",
       "      <td>17571.44405</td>\n",
       "      <td>17326.00261</td>\n",
       "      <td>-0.248531</td>\n",
       "      <td>0.7579</td>\n",
       "      <td>-0.9169</td>\n",
       "      <td>0.330783</td>\n",
       "      <td>1.000000</td>\n",
       "      <td>17816.49919</td>\n",
       "    </tr>\n",
       "    <tr>\n",
       "      <th>2014-11-28</th>\n",
       "      <td>2067.56</td>\n",
       "      <td>4791.630</td>\n",
       "      <td>1226.117</td>\n",
       "      <td>21731.18</td>\n",
       "      <td>17786.23143</td>\n",
       "      <td>17615.07190</td>\n",
       "      <td>17495.94512</td>\n",
       "      <td>17711.97620</td>\n",
       "      <td>216.031080</td>\n",
       "      <td>80.850136</td>\n",
       "      <td>...</td>\n",
       "      <td>17453.37163</td>\n",
       "      <td>17950.93255</td>\n",
       "      <td>17572.70598</td>\n",
       "      <td>17339.52301</td>\n",
       "      <td>-0.202762</td>\n",
       "      <td>0.7717</td>\n",
       "      <td>-0.9403</td>\n",
       "      <td>0.249757</td>\n",
       "      <td>0.833333</td>\n",
       "      <td>17824.89410</td>\n",
       "    </tr>\n",
       "    <tr>\n",
       "      <th>2014-12-01</th>\n",
       "      <td>2053.44</td>\n",
       "      <td>4727.347</td>\n",
       "      <td>1215.778</td>\n",
       "      <td>21522.97</td>\n",
       "      <td>17799.24143</td>\n",
       "      <td>17642.75667</td>\n",
       "      <td>17516.74919</td>\n",
       "      <td>17721.94909</td>\n",
       "      <td>205.199907</td>\n",
       "      <td>76.169209</td>\n",
       "      <td>...</td>\n",
       "      <td>17490.41825</td>\n",
       "      <td>17957.79830</td>\n",
       "      <td>17573.86238</td>\n",
       "      <td>17353.16344</td>\n",
       "      <td>-0.098048</td>\n",
       "      <td>0.7964</td>\n",
       "      <td>-0.8932</td>\n",
       "      <td>0.337935</td>\n",
       "      <td>1.000000</td>\n",
       "      <td>17827.06772</td>\n",
       "    </tr>\n",
       "    <tr>\n",
       "      <th>2014-12-02</th>\n",
       "      <td>2066.55</td>\n",
       "      <td>4755.811</td>\n",
       "      <td>1223.613</td>\n",
       "      <td>21665.19</td>\n",
       "      <td>17822.17714</td>\n",
       "      <td>17666.04381</td>\n",
       "      <td>17543.62332</td>\n",
       "      <td>17746.19539</td>\n",
       "      <td>202.572066</td>\n",
       "      <td>74.856508</td>\n",
       "      <td>...</td>\n",
       "      <td>17516.33079</td>\n",
       "      <td>17964.60629</td>\n",
       "      <td>17574.91401</td>\n",
       "      <td>17366.91876</td>\n",
       "      <td>0.011082</td>\n",
       "      <td>0.9451</td>\n",
       "      <td>-0.9403</td>\n",
       "      <td>0.271200</td>\n",
       "      <td>1.000000</td>\n",
       "      <td>17781.88430</td>\n",
       "    </tr>\n",
       "  </tbody>\n",
       "</table>\n",
       "<p>1591 rows × 21 columns</p>\n",
       "</div>"
      ],
      "text/plain": [
       "             SnP500    NASDAQ  Russell_3000  Willshire_5000          ma7  \\\n",
       "Date                                                                       \n",
       "2008-08-08  1296.32  2414.100       756.344        13197.13      0.00000   \n",
       "2008-08-11  1305.32  2439.950       762.564        13307.96      0.00000   \n",
       "2008-08-12  1289.59  2430.610       753.948        13163.60      0.00000   \n",
       "2008-08-13  1285.83  2428.620       752.935        13145.53      0.00000   \n",
       "2008-08-14  1292.93  2453.670       757.509        13228.23      0.00000   \n",
       "...             ...       ...           ...             ...          ...   \n",
       "2014-11-25  2067.03  4758.251      1227.410        21761.12  17740.45714   \n",
       "2014-11-26  2072.83  4787.317      1230.727        21826.24  17766.17143   \n",
       "2014-11-28  2067.56  4791.630      1226.117        21731.18  17786.23143   \n",
       "2014-12-01  2053.44  4727.347      1215.778        21522.97  17799.24143   \n",
       "2014-12-02  2066.55  4755.811      1223.613        21665.19  17822.17714   \n",
       "\n",
       "                   ma21        26ema        12ema        MACD       20sd  ...  \\\n",
       "Date                                                                      ...   \n",
       "2008-08-08      0.00000  11734.32000  11734.32000    0.000000   0.000000  ...   \n",
       "2008-08-11      0.00000  11759.25865  11760.33625    1.077596   0.000000  ...   \n",
       "2008-08-12      0.00000  11717.29762  11714.33303   -2.964599   0.000000  ...   \n",
       "2008-08-13      0.00000  11665.76488  11657.08065   -8.684231   0.000000  ...   \n",
       "2008-08-14      0.00000  11654.20797  11645.90017   -8.307801   0.000000  ...   \n",
       "...                 ...          ...          ...         ...        ...  ...   \n",
       "2014-11-25  17535.26571  17440.69045  17665.94412  225.253663  80.066184  ...   \n",
       "2014-11-26  17574.40857  17469.36153  17690.83733  221.475798  83.156072  ...   \n",
       "2014-11-28  17615.07190  17495.94512  17711.97620  216.031080  80.850136  ...   \n",
       "2014-12-01  17642.75667  17516.74919  17721.94909  205.199907  76.169209  ...   \n",
       "2014-12-02  17666.04381  17543.62332  17746.19539  202.572066  74.856508  ...   \n",
       "\n",
       "             lower_band    fourier_3    fourier_6    fourier_9  compound_mean  \\\n",
       "Date                                                                            \n",
       "2008-08-08      0.00000  13020.39374  13625.56107  14208.26577      -0.350337   \n",
       "2008-08-11      0.00000  12993.55868  13571.79409  14132.88059      -0.085277   \n",
       "2008-08-12      0.00000  12966.73966  13517.88476  14057.07921      -0.318394   \n",
       "2008-08-13      0.00000  12939.93763  13463.83978  13980.88105      -0.162032   \n",
       "2008-08-14      0.00000  12913.15355  13409.66589  13904.30573      -0.194879   \n",
       "...                 ...          ...          ...          ...            ...   \n",
       "2014-11-25  17375.13335  17937.02997  17570.07586  17312.60723      -0.252173   \n",
       "2014-11-26  17408.09643  17944.00959  17571.44405  17326.00261      -0.248531   \n",
       "2014-11-28  17453.37163  17950.93255  17572.70598  17339.52301      -0.202762   \n",
       "2014-12-01  17490.41825  17957.79830  17573.86238  17353.16344      -0.098048   \n",
       "2014-12-02  17516.33079  17964.60629  17574.91401  17366.91876       0.011082   \n",
       "\n",
       "            compound_max  compound_min  subjectivity_mean  subjectivity_max  \\\n",
       "Date                                                                          \n",
       "2008-08-08        0.2144       -0.9260           0.163685          0.666667   \n",
       "2008-08-11        0.8156       -0.8271           0.202921          0.720000   \n",
       "2008-08-12        0.5423       -0.8591           0.374076          1.000000   \n",
       "2008-08-13        0.5106       -0.8074           0.176371          0.900000   \n",
       "2008-08-14        0.7177       -0.8689           0.319615          1.000000   \n",
       "...                  ...           ...                ...               ...   \n",
       "2014-11-25        0.8860       -0.9169           0.314211          1.000000   \n",
       "2014-11-26        0.7579       -0.9169           0.330783          1.000000   \n",
       "2014-11-28        0.7717       -0.9403           0.249757          0.833333   \n",
       "2014-12-01        0.7964       -0.8932           0.337935          1.000000   \n",
       "2014-12-02        0.9451       -0.9403           0.271200          1.000000   \n",
       "\n",
       "            ARIMA_preds  \n",
       "Date                     \n",
       "2008-08-08  17951.59589  \n",
       "2008-08-11  12215.06373  \n",
       "2008-08-12  12287.41573  \n",
       "2008-08-13  11787.77956  \n",
       "2008-08-14  12024.63278  \n",
       "...                 ...  \n",
       "2014-11-25  17815.52378  \n",
       "2014-11-26  17816.49919  \n",
       "2014-11-28  17824.89410  \n",
       "2014-12-01  17827.06772  \n",
       "2014-12-02  17781.88430  \n",
       "\n",
       "[1591 rows x 21 columns]"
      ]
     },
     "execution_count": 9,
     "metadata": {},
     "output_type": "execute_result"
    }
   ],
   "source": [
    "x_train"
   ]
  },
  {
   "cell_type": "code",
   "execution_count": null,
   "metadata": {
    "ExecuteTime": {
     "end_time": "2019-12-08T18:57:47.180280Z",
     "start_time": "2019-12-08T18:57:47.176171Z"
    }
   },
   "outputs": [],
   "source": []
  },
  {
   "cell_type": "code",
   "execution_count": 10,
   "metadata": {
    "ExecuteTime": {
     "end_time": "2019-12-08T23:58:27.913796Z",
     "start_time": "2019-12-08T23:58:27.860155Z"
    }
   },
   "outputs": [],
   "source": [
    "model2=sm.OLS(y_train, x_train).fit()"
   ]
  },
  {
   "cell_type": "code",
   "execution_count": 11,
   "metadata": {
    "ExecuteTime": {
     "end_time": "2019-12-08T23:58:28.247837Z",
     "start_time": "2019-12-08T23:58:28.220432Z"
    }
   },
   "outputs": [
    {
     "name": "stdout",
     "output_type": "stream",
     "text": [
      "                                 OLS Regression Results                                \n",
      "=======================================================================================\n",
      "Dep. Variable:                    DJI   R-squared (uncentered):                   1.000\n",
      "Model:                            OLS   Adj. R-squared (uncentered):              1.000\n",
      "Method:                 Least Squares   F-statistic:                          7.868e+05\n",
      "Date:                Sun, 08 Dec 2019   Prob (F-statistic):                        0.00\n",
      "Time:                        18:58:28   Log-Likelihood:                         -9929.4\n",
      "No. Observations:                1591   AIC:                                  1.990e+04\n",
      "Df Residuals:                    1570   BIC:                                  2.001e+04\n",
      "Df Model:                          21                                                  \n",
      "Covariance Type:            nonrobust                                                  \n",
      "=====================================================================================\n",
      "                        coef    std err          t      P>|t|      [0.025      0.975]\n",
      "-------------------------------------------------------------------------------------\n",
      "SnP500                3.6772      0.614      5.988      0.000       2.473       4.882\n",
      "NASDAQ               -0.4679      0.052     -9.050      0.000      -0.569      -0.366\n",
      "Russell_3000        -20.2039      2.928     -6.900      0.000     -25.947     -14.460\n",
      "Willshire_5000        1.0864      0.130      8.379      0.000       0.832       1.341\n",
      "ma7                   0.0246      0.007      3.489      0.000       0.011       0.038\n",
      "ma21              -1.108e+06   1.01e+06     -1.095      0.274   -3.09e+06    8.77e+05\n",
      "26ema              4.399e+04   8.39e+05      0.052      0.958    -1.6e+06    1.69e+06\n",
      "12ema             -4.399e+04   8.39e+05     -0.052      0.958   -1.69e+06     1.6e+06\n",
      "MACD               4.399e+04   8.39e+05      0.052      0.958    -1.6e+06    1.69e+06\n",
      "20sd                 -0.1306      0.571     -0.229      0.819      -1.251       0.990\n",
      "upper_band         5.542e+05   5.06e+05      1.095      0.274   -4.38e+05    1.55e+06\n",
      "lower_band         5.542e+05   5.06e+05      1.095      0.274   -4.38e+05    1.55e+06\n",
      "fourier_3             0.0186      0.006      3.285      0.001       0.008       0.030\n",
      "fourier_6             0.0236      0.014      1.630      0.103      -0.005       0.052\n",
      "fourier_9             0.0241      0.013      1.834      0.067      -0.002       0.050\n",
      "compound_mean       -16.7723     33.707     -0.498      0.619     -82.888      49.343\n",
      "compound_max         22.7220     20.183      1.126      0.260     -16.866      62.310\n",
      "compound_min       -149.3305     40.504     -3.687      0.000    -228.779     -69.882\n",
      "subjectivity_mean    -8.5577     52.833     -0.162      0.871    -112.189      95.073\n",
      "subjectivity_max      9.0603     22.857      0.396      0.692     -35.773      53.893\n",
      "ARIMA_preds           0.2171      0.018     12.121      0.000       0.182       0.252\n",
      "==============================================================================\n",
      "Omnibus:                      268.453   Durbin-Watson:                   0.779\n",
      "Prob(Omnibus):                  0.000   Jarque-Bera (JB):             1684.491\n",
      "Skew:                          -0.628   Prob(JB):                         0.00\n",
      "Kurtosis:                       7.882   Cond. No.                     1.99e+10\n",
      "==============================================================================\n",
      "\n",
      "Warnings:\n",
      "[1] Standard Errors assume that the covariance matrix of the errors is correctly specified.\n",
      "[2] The condition number is large, 1.99e+10. This might indicate that there are\n",
      "strong multicollinearity or other numerical problems.\n"
     ]
    }
   ],
   "source": [
    "print(model2.summary())"
   ]
  },
  {
   "cell_type": "code",
   "execution_count": 12,
   "metadata": {
    "ExecuteTime": {
     "end_time": "2019-12-08T23:58:28.623043Z",
     "start_time": "2019-12-08T23:58:28.619047Z"
    }
   },
   "outputs": [
    {
     "name": "stdout",
     "output_type": "stream",
     "text": [
      "SnP500               3.677247e+00\n",
      "NASDAQ              -4.678694e-01\n",
      "Russell_3000        -2.020390e+01\n",
      "Willshire_5000       1.086446e+00\n",
      "ma7                  2.462562e-02\n",
      "ma21                -1.108395e+06\n",
      "26ema                4.398851e+04\n",
      "12ema               -4.398807e+04\n",
      "MACD                 4.398917e+04\n",
      "20sd                -1.306151e-01\n",
      "upper_band           5.541976e+05\n",
      "lower_band           5.541975e+05\n",
      "fourier_3            1.861328e-02\n",
      "fourier_6            2.361028e-02\n",
      "fourier_9            2.414926e-02\n",
      "compound_mean       -1.677226e+01\n",
      "compound_max         2.272199e+01\n",
      "compound_min        -1.493305e+02\n",
      "subjectivity_mean   -8.557738e+00\n",
      "subjectivity_max     9.060277e+00\n",
      "ARIMA_preds          2.170962e-01\n",
      "dtype: float64\n"
     ]
    }
   ],
   "source": [
    "print(model2.params)"
   ]
  },
  {
   "cell_type": "code",
   "execution_count": 13,
   "metadata": {
    "ExecuteTime": {
     "end_time": "2019-12-08T23:58:29.693722Z",
     "start_time": "2019-12-08T23:58:29.689684Z"
    }
   },
   "outputs": [],
   "source": [
    "linreg_preds=model2.predict(x_test)"
   ]
  },
  {
   "cell_type": "code",
   "execution_count": 17,
   "metadata": {
    "ExecuteTime": {
     "end_time": "2019-12-09T00:00:17.074700Z",
     "start_time": "2019-12-09T00:00:17.067718Z"
    }
   },
   "outputs": [
    {
     "name": "stdout",
     "output_type": "stream",
     "text": [
      "R-Sqaured Score: 0.8238842085780299\n",
      "Mean Squared Error: 67235.9485796414\n",
      "Mean Absolute Error: 219.54884978059542\n"
     ]
    }
   ],
   "source": [
    "#Evaluation\n",
    "print('R-Sqaured Score:',r2_score(y_test, linreg_preds))\n",
    "print('Mean Squared Error:', metrics.mean_squared_error(y_test, linreg_preds))\n",
    "print('Mean Absolute Error:', metrics.mean_absolute_error(y_test, linreg_preds))"
   ]
  }
 ],
 "metadata": {
  "kernelspec": {
   "display_name": "Python 3",
   "language": "python",
   "name": "python3"
  },
  "language_info": {
   "codemirror_mode": {
    "name": "ipython",
    "version": 3
   },
   "file_extension": ".py",
   "mimetype": "text/x-python",
   "name": "python",
   "nbconvert_exporter": "python",
   "pygments_lexer": "ipython3",
   "version": "3.7.5"
  },
  "toc": {
   "base_numbering": 1,
   "nav_menu": {},
   "number_sections": true,
   "sideBar": true,
   "skip_h1_title": false,
   "title_cell": "Table of Contents",
   "title_sidebar": "Contents",
   "toc_cell": false,
   "toc_position": {},
   "toc_section_display": true,
   "toc_window_display": false
  }
 },
 "nbformat": 4,
 "nbformat_minor": 2
}
